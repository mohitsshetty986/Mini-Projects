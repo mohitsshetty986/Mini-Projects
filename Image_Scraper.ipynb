{
  "nbformat": 4,
  "nbformat_minor": 0,
  "metadata": {
    "colab": {
      "name": "Untitled2.ipynb",
      "provenance": [],
      "authorship_tag": "ABX9TyPS9tg6c5I79OpqE7mcyS9v",
      "include_colab_link": true
    },
    "kernelspec": {
      "name": "python3",
      "display_name": "Python 3"
    }
  },
  "cells": [
    {
      "cell_type": "markdown",
      "metadata": {
        "id": "view-in-github",
        "colab_type": "text"
      },
      "source": [
        "<a href=\"https://colab.research.google.com/github/mohitsshetty986/Personal-Projects/blob/master/Image_Scraper.ipynb\" target=\"_parent\"><img src=\"https://colab.research.google.com/assets/colab-badge.svg\" alt=\"Open In Colab\"/></a>"
      ]
    },
    {
      "cell_type": "markdown",
      "metadata": {
        "id": "jv8_EO8OxF_b",
        "colab_type": "text"
      },
      "source": [
        "# **A python Image scraper**"
      ]
    },
    {
      "cell_type": "code",
      "metadata": {
        "id": "BMDME4c0xCKF",
        "colab_type": "code",
        "colab": {}
      },
      "source": [
        "from bs4 import BeautifulSoup as bs\n",
        "import requests"
      ],
      "execution_count": 44,
      "outputs": []
    },
    {
      "cell_type": "code",
      "metadata": {
        "id": "YKVMEgZ1xl-T",
        "colab_type": "code",
        "colab": {
          "base_uri": "https://localhost:8080/",
          "height": 34
        },
        "outputId": "2abccf42-ee75-4406-b4a4-08bc6e63f049"
      },
      "source": [
        "input1=input(\"Search image: \")"
      ],
      "execution_count": 45,
      "outputs": [
        {
          "output_type": "stream",
          "text": [
            "Search image: interstellar\n"
          ],
          "name": "stdout"
        }
      ]
    },
    {
      "cell_type": "markdown",
      "metadata": {
        "id": "fpUUaIYhx2hd",
        "colab_type": "text"
      },
      "source": [
        "### **We have used ![](https://www.wallpaperflare.com/fpublic/css/favicon.ico) Wallpaperflare website to scrape images** \n",
        "\n"
      ]
    },
    {
      "cell_type": "code",
      "metadata": {
        "id": "sleChhBBxhNB",
        "colab_type": "code",
        "colab": {}
      },
      "source": [
        "url = \"https://www.wallpaperflare.com/search?wallpaper={}\".format(input1)"
      ],
      "execution_count": 46,
      "outputs": []
    },
    {
      "cell_type": "markdown",
      "metadata": {
        "id": "4OQ04Xt7yD-D",
        "colab_type": "text"
      },
      "source": [
        "### **using BeautifulSoup to get the HTML code of the URL site**"
      ]
    },
    {
      "cell_type": "code",
      "metadata": {
        "id": "wb5kFL3LyBJO",
        "colab_type": "code",
        "colab": {}
      },
      "source": [
        "soup = bs(requests.get(url).content, \"html5lib\")\n",
        "\n",
        "#soup"
      ],
      "execution_count": 47,
      "outputs": []
    },
    {
      "cell_type": "markdown",
      "metadata": {
        "id": "qYu0wTx9yhna",
        "colab_type": "text"
      },
      "source": [
        "### **We don't want the entire code to scrape images. Let's get the specific tag or the class that stores the image URL**"
      ]
    },
    {
      "cell_type": "code",
      "metadata": {
        "id": "izxQWxZXyQZ1",
        "colab_type": "code",
        "colab": {}
      },
      "source": [
        "images = soup.findAll(\"li\", {\"itemprop\":\"associatedMedia\"})\n",
        "\n",
        "#images"
      ],
      "execution_count": 48,
      "outputs": []
    },
    {
      "cell_type": "markdown",
      "metadata": {
        "id": "L0gLjQJkzBRu",
        "colab_type": "text"
      },
      "source": [
        "### **If you notice we have data-src elements with url content but it will give us unoriginal images with smaller resolution. So to get the original image we will go further to another site. For that we extract the URL elements from href**"
      ]
    },
    {
      "cell_type": "code",
      "metadata": {
        "id": "dI0kdI6oy-gz",
        "colab_type": "code",
        "colab": {}
      },
      "source": [
        "url_list=[]\n",
        "for i in images:\n",
        "  img_url=i.find(\"a\",{\"itemprop\":\"url\"})['href']\n",
        "  url_list.append(img_url)\n",
        "#url_list"
      ],
      "execution_count": 49,
      "outputs": []
    },
    {
      "cell_type": "markdown",
      "metadata": {
        "id": "vI0PM06ozexe",
        "colab_type": "text"
      },
      "source": [
        "### **We will go to the final site by adding a string '/download/' to get the original image to each of the above urls**\n",
        "\n",
        "Then we will again use BeautifulSoup to get the url contents of final images."
      ]
    },
    {
      "cell_type": "code",
      "metadata": {
        "id": "K87jDDSz0rLT",
        "colab_type": "code",
        "colab": {
          "base_uri": "https://localhost:8080/",
          "height": 1000
        },
        "outputId": "488a598b-3c86-4539-f846-4ebd9d3d7a3f"
      },
      "source": [
        "download_list=[]\n",
        "for i in url_list:\n",
        "  img_url1=i+'/download/'\n",
        "  soup1 = bs(requests.get(img_url1).content, \"html5lib\")\n",
        "  finalimg_url=soup1.find(\"img\",{'itemprop':'contentUrl'})['src']\n",
        "  download_list.append(finalimg_url)\n",
        "download_list"
      ],
      "execution_count": 50,
      "outputs": [
        {
          "output_type": "execute_result",
          "data": {
            "text/plain": [
              "['https://c4.wallpaperflare.com/wallpaper/88/698/360/space-black-hole-interstellar-planet-wallpaper-7806ed3840100c9880ac114e1852449a.jpg',\n",
              " 'https://c4.wallpaperflare.com/wallpaper/1023/915/631/nasa-space-suit-digital-art-space-wallpaper-d9b0d87dd1fadddb462798dfa0c1e69d.jpg',\n",
              " 'https://c4.wallpaperflare.com/wallpaper/268/183/676/black-holes-interstellar-movie-wallpaper-5f0532ec3e463cfbd5fc68e2a1513424.jpg',\n",
              " 'https://c4.wallpaperflare.com/wallpaper/676/38/567/interstellar-movie-wallpaper-98f68cdadfeca7595e80b9c2d2492b50.jpg',\n",
              " 'https://c4.wallpaperflare.com/wallpaper/1002/423/715/space-black-holes-interstellar-movie-wallpaper-2920f8fdf1bafd3b1657b89f207176ed.jpg',\n",
              " 'https://c4.wallpaperflare.com/wallpaper/638/16/939/space-interstellar-movie-planet-black-holes-wallpaper-79a0f8dd81ba5dab66e7e84f1081e69d.jpg',\n",
              " 'https://c4.wallpaperflare.com/wallpaper/527/320/1017/interstellar-movie-movies-astronaut-sea-wallpaper-08365db800001c38205cf1be2892643a.jpg',\n",
              " 'https://c4.wallpaperflare.com/wallpaper/861/346/430/film-stills-interstellar-movie-wallpaper-e9f0b85d61baddbbf6f7183ff091e6dd.jpg',\n",
              " 'https://c4.wallpaperflare.com/wallpaper/852/325/285/interstellar-movie-film-stills-gargantua-black-holes-wallpaper-d96018edf16a6d4bb65728efd01176dd.jpg',\n",
              " 'https://c4.wallpaperflare.com/wallpaper/811/697/195/stars-night-dark-interstellar-movie-wallpaper-d9c0f85db11a5d7bc6a778bfa0b1a6bd.jpg',\n",
              " 'https://c4.wallpaperflare.com/wallpaper/185/850/326/interstellar-movie-movies-movie-poster-film-posters-wallpaper-e94068fd616afdab2637c88fa081f69d.jpg',\n",
              " 'https://c4.wallpaperflare.com/wallpaper/631/218/373/4k-interstellar-matthew-mcconaughey-astronaut-wallpaper-20f099457084ada70966e05ae15eee06.jpg',\n",
              " 'https://c4.wallpaperflare.com/wallpaper/467/334/528/simple-simple-background-black-background-space-wallpaper-08964df890602cd8d04c91fe38b234aa.jpg',\n",
              " 'https://c4.wallpaperflare.com/wallpaper/821/863/653/interstellar-movie-wallpaper-331eb4dc22e0671c9112a31d7eb528a8.jpg',\n",
              " 'https://c4.wallpaperflare.com/wallpaper/658/995/627/christopher-nolan-s-interstellar-wallpaper-2f1c729fdd69e588c70db21494e39010.jpg',\n",
              " 'https://c4.wallpaperflare.com/wallpaper/536/846/466/interstellar-movie-movies-wallpaper-bf9cd28f7da9252847fd32041423f070.jpg',\n",
              " 'https://c4.wallpaperflare.com/wallpaper/724/786/438/interstellar-movie-black-holes-space-dark-wallpaper-7896bdc8f030fc98501cb10ea87284da.jpg',\n",
              " 'https://c4.wallpaperflare.com/wallpaper/431/163/617/space-interstellar-movie-film-stills-wallpaper-88669d88c0705c9890cce1aeb8d264ba.jpg',\n",
              " 'https://c4.wallpaperflare.com/wallpaper/137/163/699/stars-4k-8k-interstellar-wallpaper-fd62a4ba1737179bd712b7f02f5dcb22.jpg',\n",
              " 'https://c4.wallpaperflare.com/wallpaper/472/450/369/interstellar-wallpaper-09e0086d815a2d2b76d7484f6051267d.jpg',\n",
              " 'https://c4.wallpaperflare.com/wallpaper/676/38/567/interstellar-movie-wallpaper-18460c7a6f0c27a9def0e93242490bf0.jpg',\n",
              " 'https://c4.wallpaperflare.com/wallpaper/941/220/63/interstellar-movie-film-stills-wallpaper-79c0987d912a6d2b561728cff0c1666d.jpg',\n",
              " 'https://c4.wallpaperflare.com/wallpaper/758/237/89/interstellar-movie-wallpaper-8fcce2cf2dd9f5c837ad32744413f070.jpg',\n",
              " 'https://c4.wallpaperflare.com/wallpaper/613/42/350/interstellar-movie-film-stills-movies-wallpaper-f950a86d614a9dcb76d7681f6061d60d.jpg',\n",
              " 'https://c4.wallpaperflare.com/wallpaper/88/813/78/interstellar-movie-space-science-fiction-movies-wallpaper-1fbcd27f7d19b5a897edd2a434839040.jpg',\n",
              " 'https://c4.wallpaperflare.com/wallpaper/555/657/228/interstellar-movie-movies-wallpaper-0c4d57e361a6d383422b6e8dddde3157.jpg',\n",
              " 'https://c4.wallpaperflare.com/wallpaper/624/458/452/interstellar-wallpaper-82f1e260fd364e3b8ad842e5b0a8f9c2.jpg',\n",
              " 'https://c4.wallpaperflare.com/wallpaper/119/430/561/matthew-mcconaughey-interstellar-movie-movies-astronaut-wallpaper-d930582d219abdfbb6a7785fa041b61d.jpg',\n",
              " 'https://c4.wallpaperflare.com/wallpaper/912/656/60/interstellar-movie-movies-monochrome-movie-poster-wallpaper-c9e048dd716a2d3bc647189fc0e1366d.jpg',\n",
              " 'https://c4.wallpaperflare.com/wallpaper/240/650/415/2014-interstellar-brown-house-wallpaper-cfbcf2ffada975c8475d025424b34030.jpg',\n",
              " 'https://c4.wallpaperflare.com/wallpaper/396/67/653/interstellar-movie-christopher-nolan-movies-hollywood-wallpaper-4920584dd1babd3b5687189f40d1060d.jpg',\n",
              " 'https://c4.wallpaperflare.com/wallpaper/191/164/35/interstellar-movie-film-stills-movies-wallpaper-89f038bd71aaad7bd6a778afc0a156dd.jpg',\n",
              " 'https://c4.wallpaperflare.com/wallpaper/638/16/939/movies-gargantua-black-holes-artwork-wallpaper-39b048ed41ca5d1b6607381fa001d68d.jpg',\n",
              " 'https://c4.wallpaperflare.com/wallpaper/704/660/967/interstellar-movie-wallpaper-c9a0a83d211a1d0b361788bff081f6ed.jpg',\n",
              " 'https://c4.wallpaperflare.com/wallpaper/268/183/676/black-holes-interstellar-movie-wallpaper-3ff592bc7e06fc5b452ce8f27191c444.jpg',\n",
              " 'https://c4.wallpaperflare.com/wallpaper/771/301/240/interstellar-brand-anne-hathaway-wallpaper-70d0d5a92f264ef368bfb7a6bb5684f8.jpg',\n",
              " 'https://c4.wallpaperflare.com/wallpaper/436/72/11/interstellar-movie-anne-hathaway-actress-spacesuit-wallpaper-630e349c02b0e74c2112f3fdfe2568d8.jpg',\n",
              " 'https://c4.wallpaperflare.com/wallpaper/743/1018/523/interstellar-2014-wallpaper-32b102e05d668e6b6ad89265e078b962.jpg',\n",
              " 'https://c4.wallpaperflare.com/wallpaper/678/323/672/space-interstellar-movie-movies-astronaut-wallpaper-38868de890909cd800fc717e18e2c4aa.jpg',\n",
              " 'https://c4.wallpaperflare.com/wallpaper/721/588/27/interstellar-movie-gargantua-space-black-holes-wallpaper-b8464d182060cc48c08c212e6812b49a.jpg',\n",
              " 'https://c4.wallpaperflare.com/wallpaper/1023/915/631/space-space-art-science-fiction-wormholes-wallpaper-d9e0183d516acd8b96e758af80b1463d.jpg',\n",
              " 'https://c4.wallpaperflare.com/wallpaper/409/1006/359/interstellar-movie-movies-night-space-wallpaper-ef7c42cfed49b50877ddb224d4b310b0.jpg',\n",
              " 'https://c4.wallpaperflare.com/wallpaper/164/18/363/interstellar-movie-road-time-earth-wallpaper-6990f89d712a4d1b0637b89f20a1d69d.jpg',\n",
              " 'https://c4.wallpaperflare.com/wallpaper/498/302/457/interstellar-movie-film-stills-wallpaper-4970d87db1ca9d5b9657a81f4031864d.jpg',\n",
              " 'https://c4.wallpaperflare.com/wallpaper/543/19/712/space-interstellar-movie-wallpaper-78f69de8d0007cf850fcb19e5892e4ea.jpg',\n",
              " 'https://c4.wallpaperflare.com/wallpaper/609/927/630/universe-black-holes-interstellar-movie-digital-art-wallpaper-e74f9274bfd51f2a7f12a4f1b1e117c5.jpg',\n",
              " 'https://c4.wallpaperflare.com/wallpaper/38/334/499/interstellar-movie-ranger-space-wallpaper-337b933dfd19cb257fd6c277588b6808.jpg',\n",
              " 'https://c4.wallpaperflare.com/wallpaper/22/689/215/interstellar-voyage-interstellar-movie-scene-wallpaper-ef5c02cf7da925c8173d22842413e010.jpg',\n",
              " 'https://c4.wallpaperflare.com/wallpaper/396/151/622/space-interstellar-movie-black-holes-supermassive-black-hole-wallpaper-0b168c3d63419f7995141b290d9c4c70.jpg',\n",
              " 'https://c4.wallpaperflare.com/wallpaper/950/447/785/actor-matthew-mcconaughey-movies-sky-wallpaper-992048bd515a2dab363788dff0d1862d.jpg',\n",
              " 'https://c4.wallpaperflare.com/wallpaper/402/234/362/4k-interstellar-stars-milky-way-wallpaper-69f40153bd5b55f4009d0a72bc2c6a80.jpg',\n",
              " 'https://c4.wallpaperflare.com/wallpaper/759/500/947/dream-invisible-5k-surreal-wallpaper-a37b935d6da99bf56f56c2b7983b5818.jpg',\n",
              " 'https://c4.wallpaperflare.com/wallpaper/257/630/433/interstellar-movie-anne-hathaway-women-women-outdoors-wallpaper-58d65cca8fdce7f99e90699232091b50.jpg',\n",
              " 'https://c4.wallpaperflare.com/wallpaper/21/255/713/stars-endurance-spaceship-interstellar-movie-wallpaper-628162901dd63ecbda5802557038d9c2.jpg',\n",
              " 'https://c4.wallpaperflare.com/wallpaper/978/152/970/interstellar-movie-interstellar-astronaut-wallpaper-028bea45a2bee9e25dc6c86691265dfb.jpg',\n",
              " 'https://c4.wallpaperflare.com/wallpaper/669/799/635/interstellar-movie-love-inspirational-space-wallpaper-ff1cf22f8d49b5f897ad3294245360a0.jpg',\n",
              " 'https://c4.wallpaperflare.com/wallpaper/750/326/523/christopher-nolan-interstellar-movie-space-stars-wallpaper-df4cd29feda95548c77d02b404e3a020.jpg',\n",
              " 'https://c4.wallpaperflare.com/wallpaper/21/255/713/space-spaceship-planet-stars-wallpaper-522172209d462e7b5ad8c235b00889e2.jpg',\n",
              " 'https://c4.wallpaperflare.com/wallpaper/861/346/430/interstellar-movie-film-stills-wallpaper-e9a0682d71da1dbb5647f8bf7021863d.jpg',\n",
              " 'https://c4.wallpaperflare.com/wallpaper/414/658/525/space-black-holes-supermassive-black-hole-interstellar-movie-space-art-hd-wallpaper-8960f81d211aad6b6657285f803136dd.jpg',\n",
              " 'https://c4.wallpaperflare.com/wallpaper/120/61/70/interstellar-movie-ranger-space-wormholes-wallpaper-737b23ed9dc98b250f96024718eb0838.jpg',\n",
              " 'https://c4.wallpaperflare.com/wallpaper/887/602/431/interstellar-satellite-wallpaper-7201e2301d060edb9a8842d5b028c962.jpg',\n",
              " 'https://c4.wallpaperflare.com/wallpaper/497/542/360/interstellar-movie-wallpaper-a39ea4ec8260c7bcb112a33daef5f858.jpg',\n",
              " 'https://c4.wallpaperflare.com/wallpaper/775/852/888/adventure-film-futuristic-interstellar-wallpaper-152120bf4fecbf24ed1f40be55df300c.jpg',\n",
              " 'https://c4.wallpaperflare.com/wallpaper/191/164/35/film-stills-interstellar-movie-movies-wallpaper-e9a0a89d61aadd5b16b7885f3001764d.jpg',\n",
              " 'https://c4.wallpaperflare.com/wallpaper/913/435/657/interstellar-movie-movies-matthew-mcconaughey-water-wallpaper-dfdc428f7dc99518978de234c4c390f0.jpg',\n",
              " 'https://c4.wallpaperflare.com/wallpaper/336/230/491/science-fiction-artwork-interstellar-movie-wallpaper-2be0a01bb911d9d9b5a35f1f4abb5723.jpg',\n",
              " 'https://c4.wallpaperflare.com/wallpaper/555/657/228/interstellar-movie-movies-wallpaper-2c0df75361a6633352ebce3d2dcef187.jpg',\n",
              " 'https://c4.wallpaperflare.com/wallpaper/287/170/545/movie-interstellar-wallpaper-f910d8edf1ca8ddb364728bfc0d196fd.jpg',\n",
              " 'https://c4.wallpaperflare.com/wallpaper/820/995/601/girl-green-legendary-pictures-wallpaper-55c1c167644cd60504bba9604b8f5f23.jpg',\n",
              " 'https://c4.wallpaperflare.com/wallpaper/320/883/642/minimalism-interstellar-movie-wallpaper-5940185d014addab66c7d8efb021d61d.jpg',\n",
              " 'https://c4.wallpaperflare.com/wallpaper/573/258/413/galaxy-interstellar-stars-nebula-wallpaper-88265dd830e02c0890bc21ae2852a45a.jpg',\n",
              " 'https://c4.wallpaperflare.com/wallpaper/22/264/8/interstellar-wallpaper-b920a8ade12a1d9b26c7f86ff091d61d.jpg',\n",
              " 'https://c4.wallpaperflare.com/wallpaper/884/109/286/interstellar-movie-jessica-chastain-women-wallpaper-f3be545c92a0b7cc9122437d5e15c8c8.jpg',\n",
              " 'https://c4.wallpaperflare.com/wallpaper/934/644/993/adventure-astronaut-fi-futurictic-wallpaper-e950787d41ea3d5b0657782f6091966d.jpg',\n",
              " 'https://c4.wallpaperflare.com/wallpaper/137/163/699/interstellar-stars-4k-8k-wallpaper-ad72744aa777f79b17c2c700df9d9b52.jpg',\n",
              " 'https://c4.wallpaperflare.com/wallpaper/698/208/952/interstellar-movie-jessica-chastain-women-redhead-wallpaper-839e94dc72f037bcd152039d2e35d818.jpg',\n",
              " 'https://c4.wallpaperflare.com/wallpaper/319/353/98/movie-interstellar-wallpaper-a92018edb1da1dcbd66798dfd091767d.jpg',\n",
              " 'https://c4.wallpaperflare.com/wallpaper/822/633/126/interstellar-movie-gargantua-space-black-holes-wallpaper-0866ed98e0002cc8300c61dec832f4ea.jpg',\n",
              " 'https://c4.wallpaperflare.com/wallpaper/862/449/162/jack-reacher-star-wars-interstellar-movie-john-wick-wallpaper-68762d68a0501c78502ca10ee8a2148a.jpg']"
            ]
          },
          "metadata": {
            "tags": []
          },
          "execution_count": 50
        }
      ]
    },
    {
      "cell_type": "markdown",
      "metadata": {
        "id": "WcjAQwVs1bSN",
        "colab_type": "text"
      },
      "source": [
        "### **Finally we download the images using the URLS of the images we obtained**"
      ]
    },
    {
      "cell_type": "code",
      "metadata": {
        "id": "5ZP8TCGe1BUa",
        "colab_type": "code",
        "colab": {}
      },
      "source": [
        "i=0\n",
        "while i<len(download_list):\n",
        "  response = requests.get(download_list[i])\n",
        "\n",
        "  file = open(str(i)+\".png\", \"wb\")\n",
        "  file.write(response.content)\n",
        "  i+=1"
      ],
      "execution_count": null,
      "outputs": []
    }
  ]
}